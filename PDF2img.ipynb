{
 "cells": [
  {
   "cell_type": "code",
   "execution_count": 1,
   "metadata": {},
   "outputs": [
    {
     "name": "stdout",
     "output_type": "stream",
     "text": [
      "Python version: 3.11.0\n"
     ]
    }
   ],
   "source": [
    "import platform\n",
    "print('Python version:', platform.python_version())"
   ]
  },
  {
   "attachments": {},
   "cell_type": "markdown",
   "metadata": {},
   "source": [
    "### Import Libraries"
   ]
  },
  {
   "attachments": {},
   "cell_type": "markdown",
   "metadata": {},
   "source": [
    "1. [Click here for documentation on convert_from_path](https://pdf2image.readthedocs.io/en/latest/reference.html#:~:text=pdf2image.pdf2image.convert_from_path)<br>\n",
    "1. [Download Poppler for Windows from this link](https://github.com/oschwartz10612/poppler-windows/releases/tag/v23.01.0-0)<br>\n",
    "Note: Download the latest release\n",
    "1. Extract the folder from the zip downloaded Poppler Zip file<br>\n",
    "1. Copy the extracted folder to C:\\Program Files\\ or in your current working directory. In this project, it is saved under folder called <i>Poppler</i> in the current working directory."
   ]
  },
  {
   "cell_type": "code",
   "execution_count": 2,
   "metadata": {},
   "outputs": [],
   "source": [
    "from pdf2image import convert_from_path\n",
    "import os"
   ]
  },
  {
   "attachments": {},
   "cell_type": "markdown",
   "metadata": {},
   "source": [
    "### Inputs"
   ]
  },
  {
   "cell_type": "code",
   "execution_count": 3,
   "metadata": {},
   "outputs": [],
   "source": [
    "# POPPLER_PATH = r'C:\\Program Files\\poppler-23.01.0\\Library\\bin'\n",
    "POPPLER_PATH = \"./Poppler/poppler-23.01.0/Library/bin/\"\n",
    "# Letter size paper in pixels\n",
    "IMAGE_WIDTH = 2550 # 8.5 × 300\n",
    "IMAGE_HEIGHT = 3300 # 11 × 300\n",
    "IMAGES_FOLDER = \"./Images/\"\n",
    "pdf_file_path = \"PDF reader test.pdf\""
   ]
  },
  {
   "attachments": {},
   "cell_type": "markdown",
   "metadata": {},
   "source": [
    "### Functions"
   ]
  },
  {
   "cell_type": "code",
   "execution_count": 4,
   "metadata": {},
   "outputs": [],
   "source": [
    "# Function to save images to a folder\n",
    "# The function takes the argument of pdf_file_path, images,\n",
    "# and destination_folder (default to IMAGES_FOLDER)\n",
    "# Get the file name from the path,\n",
    "# creates a folder with the same name as the file name, \n",
    "# and saves the images to the IMAGES_FOLDER\n",
    "def save_images(pdf_file_path: str, images: list, destination_folder: str = IMAGES_FOLDER):\n",
    "    '''\n",
    "    Function to save images from a pdf file to a folder\n",
    "\n",
    "    Parameters\n",
    "    ----------\n",
    "    pdf_file_path : str\n",
    "        The path of the pdf file\n",
    "    images : list\n",
    "        A list of images\n",
    "    destination_folder : str, optional\n",
    "        The destination folder to save the images, by default IMAGES_FOLDER\n",
    "\n",
    "    Returns\n",
    "    -------\n",
    "    None\n",
    "    '''\n",
    "    # Get the file name from the path using basename\n",
    "    file_name = os.path.basename(pdf_file_path)\n",
    "    # Remove the file extension\n",
    "    file_name_without_extension = os.path.splitext(file_name)[0]\n",
    "    # Create a folder with the same name as the file name\n",
    "    folder_name = os.path.join(IMAGES_FOLDER, file_name_without_extension)\n",
    "    # Create the folder if it does not exist\n",
    "    if not os.path.exists(folder_name):\n",
    "        os.mkdir(folder_name)\n",
    "    else:\n",
    "        # If the folder exists, delete all the files in the folder\n",
    "        for file in os.listdir(folder_name):\n",
    "            os.remove(os.path.join(folder_name, file))\n",
    "    # Save the images to the folder\n",
    "    for i, image in enumerate(images):\n",
    "        image.save(os.path.join(folder_name, f\"{file_name_without_extension}_{i}.jpg\"))"
   ]
  },
  {
   "attachments": {},
   "cell_type": "markdown",
   "metadata": {},
   "source": [
    "### Get images from PDF and save them in a folder"
   ]
  },
  {
   "cell_type": "code",
   "execution_count": 5,
   "metadata": {},
   "outputs": [],
   "source": [
    "images = convert_from_path(pdf_file_path, size = (IMAGE_WIDTH, IMAGE_HEIGHT), poppler_path = POPPLER_PATH)"
   ]
  },
  {
   "cell_type": "code",
   "execution_count": 6,
   "metadata": {},
   "outputs": [],
   "source": [
    "save_images(pdf_file_path, images)"
   ]
  }
 ],
 "metadata": {
  "kernelspec": {
   "display_name": ".venv",
   "language": "python",
   "name": "python3"
  },
  "language_info": {
   "codemirror_mode": {
    "name": "ipython",
    "version": 3
   },
   "file_extension": ".py",
   "mimetype": "text/x-python",
   "name": "python",
   "nbconvert_exporter": "python",
   "pygments_lexer": "ipython3",
   "version": "3.11.0"
  },
  "orig_nbformat": 4,
  "vscode": {
   "interpreter": {
    "hash": "1c924f08b8f628ee0c04becae896b63ba79dcaf747c94f04a08de911da865e13"
   }
  }
 },
 "nbformat": 4,
 "nbformat_minor": 2
}
