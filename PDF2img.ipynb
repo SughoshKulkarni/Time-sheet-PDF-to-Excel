{
 "cells": [
  {
   "cell_type": "code",
   "execution_count": 1,
   "metadata": {},
   "outputs": [
    {
     "name": "stdout",
     "output_type": "stream",
     "text": [
      "Python version: 3.11.0\n"
     ]
    }
   ],
   "source": [
    "import platform\n",
    "print('Python version:', platform.python_version())"
   ]
  },
  {
   "attachments": {},
   "cell_type": "markdown",
   "metadata": {},
   "source": [
    "### Import Libraries"
   ]
  },
  {
   "attachments": {},
   "cell_type": "markdown",
   "metadata": {},
   "source": [
    "1. [Click here for documentation on convert_from_path](https://pdf2image.readthedocs.io/en/latest/reference.html#:~:text=pdf2image.pdf2image.convert_from_path)<br>\n",
    "1. [Download Poppler for Windows from this link](https://github.com/oschwartz10612/poppler-windows/releases/tag/v23.01.0-0)<br>\n",
    "Note: Download the latest release\n",
    "1. Extract the folder from the zip downloaded Poppler Zip file<br>\n",
    "1. Copy the extracted folder to C:\\Program Files\\ or in your current working directory. In this project, it is saved under folder called <i>Poppler</i> in the current working directory."
   ]
  },
  {
   "cell_type": "code",
   "execution_count": 2,
   "metadata": {},
   "outputs": [],
   "source": [
    "from pdf2image import convert_from_path\n",
    "import os"
   ]
  },
  {
   "attachments": {},
   "cell_type": "markdown",
   "metadata": {},
   "source": [
    "### Inputs"
   ]
  },
  {
   "cell_type": "code",
   "execution_count": 3,
   "metadata": {},
   "outputs": [],
   "source": [
    "# POPPLER_PATH = r'C:\\Program Files\\poppler-23.01.0\\Library\\bin'\n",
    "POPPLER_PATH = \"./Poppler/poppler-23.01.0/Library/bin/\"\n",
    "# Letter size paper in pixels\n",
    "IMAGE_WIDTH = 2550 # 8.5 × 300\n",
    "IMAGE_HEIGHT = 3300 # 11 × 300\n",
    "IMAGES_FOLDER = \"./Images/\"\n",
    "pdf_file_path = \"PDF reader test.pdf\""
   ]
  },
  {
   "attachments": {},
   "cell_type": "markdown",
   "metadata": {},
   "source": [
    "### Functions"
   ]
  },
  {
   "cell_type": "code",
   "execution_count": 4,
   "metadata": {},
   "outputs": [],
   "source": [
    "# Function to save images to a folder\n",
    "# The function takes the argument of pdf_file_path, images,\n",
    "# and destination_folder (default to IMAGES_FOLDER)\n",
    "# Get the file name from the path,\n",
    "# creates a folder with the same name as the file name, \n",
    "# and saves the images to the IMAGES_FOLDER\n",
    "def save_images(pdf_file_path: str, images: list, destination_folder: str = IMAGES_FOLDER):\n",
    "    '''\n",
    "    Function to save images from a pdf file to a folder\n",
    "\n",
    "    Parameters\n",
    "    ----------\n",
    "    pdf_file_path : str\n",
    "        The path of the pdf file\n",
    "    images : list\n",
    "        A list of images\n",
    "    destination_folder : str, optional\n",
    "        The destination folder to save the images, by default IMAGES_FOLDER\n",
    "\n",
    "    Returns\n",
    "    -------\n",
    "    None\n",
    "    '''\n",
    "    # Get the file name from the path using basename\n",
    "    file_name = os.path.basename(pdf_file_path)\n",
    "    # Remove the file extension\n",
    "    file_name_without_extension = os.path.splitext(file_name)[0]\n",
    "    # Create a folder with the same name as the file name\n",
    "    folder_name = os.path.join(IMAGES_FOLDER, file_name_without_extension)\n",
    "    # Create the folder if it does not exist\n",
    "    if not os.path.exists(folder_name):\n",
    "        os.mkdir(folder_name)\n",
    "    else:\n",
    "        # If the folder exists, delete all the files in the folder\n",
    "        for file in os.listdir(folder_name):\n",
    "            os.remove(os.path.join(folder_name, file))\n",
    "    # Save the images to the folder\n",
    "    for i, image in enumerate(images):\n",
    "        image.save(os.path.join(folder_name, f\"{file_name_without_extension}_{i}.jpg\"))"
   ]
  },
  {
   "attachments": {},
   "cell_type": "markdown",
   "metadata": {},
   "source": [
    "### Get images from PDF and save them in a folder"
   ]
  },
  {
   "cell_type": "code",
   "execution_count": 5,
   "metadata": {},
   "outputs": [],
   "source": [
    "images = convert_from_path(pdf_file_path, size = (IMAGE_WIDTH, IMAGE_HEIGHT), poppler_path = POPPLER_PATH)"
   ]
  },
  {
   "cell_type": "code",
   "execution_count": 6,
   "metadata": {},
   "outputs": [],
   "source": [
    "save_images(pdf_file_path, images)"
   ]
  },
  {
   "attachments": {},
   "cell_type": "markdown",
   "metadata": {},
   "source": [
    "### Read image file from the folder"
   ]
  },
  {
   "cell_type": "code",
   "execution_count": 9,
   "metadata": {},
   "outputs": [
    {
     "name": "stdout",
     "output_type": "stream",
     "text": [
      "./Images/PDF reader test/PDF reader test_0.jpg\n"
     ]
    }
   ],
   "source": [
    "# Get the file name from the path using basename\n",
    "file_name = os.path.basename(pdf_file_path)\n",
    "\n",
    "# Get the file name from the path using basename\n",
    "file_name_with_ext = os.path.basename(pdf_file_path)\n",
    "\n",
    "file_name = os.path.splitext(file_name_with_ext)[0]\n",
    "\n",
    "image_folder_path = os.path.join(IMAGES_FOLDER, file_name)\n",
    "\n",
    "# Get the first image file name\n",
    "image_file_path = os.path.join(image_folder_path, f\"{file_name}_0.jpg\")\n",
    "\n",
    "# Replace \\ with / for Windows\n",
    "image_file_path = image_file_path.replace(\"\\\\\", \"/\")\n",
    "\n",
    "print(image_file_path)"
   ]
  },
  {
   "cell_type": "code",
   "execution_count": 53,
   "metadata": {},
   "outputs": [
    {
     "name": "stdout",
     "output_type": "stream",
     "text": [
      "Original image size: (2550, 3300)\n",
      "Original image DPI: None\n",
      "Cropped image saved at ./Images/cropped_image.jpg\n"
     ]
    }
   ],
   "source": [
    "import PIL\n",
    "from PIL import Image\n",
    "\n",
    "def inches_to_pixels(inches: float, dpi: int) -> int:\n",
    "    \"\"\"\n",
    "    Converts inches to pixels based on the given DPI (dots per inch)\n",
    "    \"\"\"\n",
    "    return int(inches * dpi)\n",
    "\n",
    "def mm_to_pixels(mm: float, dpi: int) -> int:\n",
    "    \"\"\"\n",
    "    Converts millimeters to pixels based on the given DPI (dots per inch)\n",
    "    \"\"\"\n",
    "    return int(mm * dpi / 25.4)\n",
    "\n",
    "\n",
    "# Function to crop an image\n",
    "def crop_image(image_path: str, x_start: int, y_start: int, width: int, height: int, save_path: str):\n",
    "    '''\n",
    "    Function to crop an image\n",
    "\n",
    "    Parameters\n",
    "    ----------\n",
    "    image_path : str\n",
    "        The path of the image file\n",
    "    x_start : int\n",
    "        The x-coordinate of the top-left corner of the crop area\n",
    "    y_start : int\n",
    "        The y-coordinate of the top-left corner of the crop area\n",
    "    width : int\n",
    "        The width of the crop area\n",
    "    height : int\n",
    "        The height of the crop area\n",
    "    save_path : str\n",
    "        The path to save the cropped image\n",
    "\n",
    "    Returns\n",
    "    -------\n",
    "    None\n",
    "    '''\n",
    "    # Open the image\n",
    "    image = Image.open(image_path)\n",
    "    # Check the size and DPI of the image\n",
    "    print(\"Original image size:\", image.size)\n",
    "    print(\"Original image DPI:\", image.info.get(\"dpi\"))\n",
    "\n",
    "    # Crop the image\n",
    "    crop_area = (x_start, y_start, x_start+width, y_start+height)\n",
    "    cropped_image = image.crop(crop_area)\n",
    "\n",
    "    # Save the cropped image\n",
    "    cropped_image.save(save_path)\n",
    "    print(\"Cropped image saved at\", save_path)\n",
    "\n",
    "# Test the function\n",
    "image_path = \"./Images/PDF reader test/PDF reader test_0.jpg\"\n",
    "save_path = \"./Images/cropped_image.jpg\"\n",
    "x_start = inches_to_pixels(2.7, 500)\n",
    "y_start = inches_to_pixels(1.87, 500)\n",
    "width = inches_to_pixels(0.25, 500)\n",
    "height = inches_to_pixels(0.19, 500)\n",
    "\n",
    "crop_image(image_path, x_start, y_start, width, height, save_path)\n"
   ]
  },
  {
   "cell_type": "code",
   "execution_count": 11,
   "metadata": {},
   "outputs": [
    {
     "name": "stdout",
     "output_type": "stream",
     "text": [
      "Width: 2550\n",
      "Height: 3300\n",
      "DPI: None\n"
     ]
    }
   ],
   "source": [
    "# Import the PIL library\n",
    "from PIL import Image\n",
    "\n",
    "# Inputs\n",
    "image_path = image_file_path\n",
    "crop_size = (300, 300)  # 1 inch square in pixels (300 dpi)\n",
    "save_path = \"cropped_image.jpg\"\n",
    "\n",
    "# Open the image\n",
    "image = Image.open(image_path)\n",
    "\n",
    "# # Crop the image\n",
    "# cropped_image = image.crop((0, 0, crop_size[0], crop_size[1]))\n",
    "\n",
    "# # Save the cropped image\n",
    "# cropped_image.save(save_path, format='JPEG')\n",
    "\n",
    "# Get the size of the image\n",
    "width, height = image.size\n",
    "print(\"Width:\", width)\n",
    "print(\"Height:\", height)\n",
    "\n",
    "# Get the DPI of the image\n",
    "dpi = image.info.get(\"dpi\")\n",
    "print(\"DPI:\", dpi)"
   ]
  },
  {
   "cell_type": "code",
   "execution_count": null,
   "metadata": {},
   "outputs": [],
   "source": [
    "from PIL import Image\n",
    "\n",
    "# Get the file name from the path using basename\n",
    "file_name_with_ext = os.path.basename(pdf_file_path)\n",
    "\n",
    "file_name = os.path.splitext(file_name_with_ext)[0]\n",
    "\n",
    "image_folder_path = os.path.join(IMAGES_FOLDER, file_name)\n",
    "\n",
    "# Get the first image file name\n",
    "image_file_path = os.path.join(image_folder_path, f\"{file_name}_0.jpg\")\n",
    "\n",
    "# Replace \\ with / for Windows\n",
    "image_file_path = image_file_path.replace(\"\\\\\", \"/\")\n",
    "\n",
    "# Open the image\n",
    "with Image.open(image_file_path) as im:\n",
    "    # Print image format, size, and mode\n",
    "    print(\"Format:\", im.format)\n",
    "    print(\"Size:\", im.size)\n",
    "    print(\"Mode:\", im.mode)\n",
    "    # Show image\n",
    "    im.show()"
   ]
  },
  {
   "cell_type": "code",
   "execution_count": 5,
   "metadata": {},
   "outputs": [],
   "source": [
    "import cv2 # !pip install opencv-python\n",
    "import numpy as np\n",
    "\n",
    "IMAGES_FOLDER = \"./Images/\"\n",
    "pdf_file_path = \"PDF reader test.pdf\"\n",
    "# Get the file name from the path using basename\n",
    "file_name_with_ext = os.path.basename(pdf_file_path)\n",
    "\n",
    "file_name = os.path.splitext(file_name_with_ext)[0]\n",
    "image_folder_path = os.path.join(IMAGES_FOLDER, file_name)\n",
    "# Get the first image file name\n",
    "image_file_path = os.path.join(image_folder_path, f\"{file_name}_0.jpg\")\n",
    "\n",
    "if __name__ == '__main__' :\n",
    "\n",
    "    # Read image\n",
    "    im = cv2.imread(image_file_path)\n",
    "\n",
    "    # Select ROI\n",
    "    r = cv2.selectROI(im)\n",
    "\n",
    "    # Crop image\n",
    "    imCrop = im[int(r[1]):int(r[1]+r[3]), int(r[0]):int(r[0]+r[2])]\n",
    "\n",
    "    # Display cropped image\n",
    "    cv2.imshow(\"Image\", imCrop)\n",
    "    cv2.waitKey(0)\n",
    "\n",
    "    # Save cropped image\n",
    "    cv2.imwrite(\"image_crop.jpg\", imCrop)"
   ]
  },
  {
   "cell_type": "code",
   "execution_count": null,
   "metadata": {},
   "outputs": [],
   "source": [
    "import numpy as np\n",
    "\n",
    "image_file_path = \"./Images/PDF reader test/PDF reader test_0.jpg\"\n",
    "\n",
    "# Open the image\n",
    "with Image.open(image_file_path) as im:\n",
    "    # Convert image to numpy array\n",
    "    image_array = np.array(im)\n",
    "    # Print shape of the array\n",
    "    print(image_array.shape)\n"
   ]
  }
 ],
 "metadata": {
  "kernelspec": {
   "display_name": ".venv",
   "language": "python",
   "name": "python3"
  },
  "language_info": {
   "codemirror_mode": {
    "name": "ipython",
    "version": 3
   },
   "file_extension": ".py",
   "mimetype": "text/x-python",
   "name": "python",
   "nbconvert_exporter": "python",
   "pygments_lexer": "ipython3",
   "version": "3.11.0"
  },
  "orig_nbformat": 4,
  "vscode": {
   "interpreter": {
    "hash": "1c924f08b8f628ee0c04becae896b63ba79dcaf747c94f04a08de911da865e13"
   }
  }
 },
 "nbformat": 4,
 "nbformat_minor": 2
}
