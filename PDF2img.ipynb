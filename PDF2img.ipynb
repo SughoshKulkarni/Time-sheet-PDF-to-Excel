{
 "cells": [
  {
   "cell_type": "code",
   "execution_count": 1,
   "metadata": {},
   "outputs": [
    {
     "name": "stdout",
     "output_type": "stream",
     "text": [
      "Python version: 3.10.0rc2\n"
     ]
    }
   ],
   "source": [
    "import platform\n",
    "print('Python version:', platform.python_version())"
   ]
  },
  {
   "attachments": {},
   "cell_type": "markdown",
   "metadata": {},
   "source": [
    "### Import Libraries"
   ]
  },
  {
   "attachments": {},
   "cell_type": "markdown",
   "metadata": {},
   "source": [
    "1. [Click here for documentation on convert_from_path](https://pdf2image.readthedocs.io/en/latest/reference.html#:~:text=pdf2image.pdf2image.convert_from_path)<br>\n",
    "1. [Download Poppler for Windows from this link](https://github.com/oschwartz10612/poppler-windows/releases/tag/v23.01.0-0)<br>\n",
    "Note: Download the latest release\n",
    "1. Extract the folder from the zip downloaded Poppler Zip file<br>\n",
    "1. Copy the extracted folder to C:\\Program Files\\ or in your current working directory. In this project, it is saved under folder called <i>Poppler</i> in the current working directory."
   ]
  },
  {
   "cell_type": "code",
   "execution_count": 2,
   "metadata": {},
   "outputs": [],
   "source": [
    "from pdf2image import convert_from_path\n",
    "import os\n",
    "from PIL import Image"
   ]
  },
  {
   "attachments": {},
   "cell_type": "markdown",
   "metadata": {},
   "source": [
    "### Inputs"
   ]
  },
  {
   "cell_type": "code",
   "execution_count": 3,
   "metadata": {},
   "outputs": [],
   "source": [
    "# POPPLER_PATH = r'C:\\Program Files\\poppler-23.01.0\\Library\\bin'\n",
    "POPPLER_PATH = \"./Poppler/poppler-23.01.0/Library/bin/\"\n",
    "# Letter size paper in pixels\n",
    "IMAGE_WIDTH = 2550 # 8.5 × 300\n",
    "IMAGE_HEIGHT = 3300 # 11 × 300\n",
    "IMAGES_FOLDER = \"./Images/\"\n",
    "pdf_file_path = \"PDF reader test 2.pdf\"\n",
    "TEMP_TASK = \"Wrap and Put away\" # \"Wrap and Put away\" or \"Pull mats\""
   ]
  },
  {
   "attachments": {},
   "cell_type": "markdown",
   "metadata": {},
   "source": [
    "### Functions"
   ]
  },
  {
   "cell_type": "code",
   "execution_count": 4,
   "metadata": {},
   "outputs": [],
   "source": [
    "# Function to save images to a folder\n",
    "# The function takes the argument of pdf_file_path, images,\n",
    "# and destination_folder (default to IMAGES_FOLDER)\n",
    "# Get the file name from the path,\n",
    "# creates a folder with the same name as the file name, \n",
    "# and saves the images to the IMAGES_FOLDER\n",
    "def save_images(pdf_file_path: str, images: list, destination_folder: str = IMAGES_FOLDER):\n",
    "    '''\n",
    "    Function to save images from a pdf file to a folder\n",
    "\n",
    "    Parameters\n",
    "    ----------\n",
    "    pdf_file_path : str\n",
    "        The path of the pdf file\n",
    "    images : list\n",
    "        A list of images\n",
    "    destination_folder : str, optional\n",
    "        The destination folder to save the images, by default IMAGES_FOLDER\n",
    "\n",
    "    Returns\n",
    "    -------\n",
    "    None\n",
    "    '''\n",
    "    # Get the file name from the path using basename\n",
    "    file_name = os.path.basename(pdf_file_path)\n",
    "    # Remove the file extension\n",
    "    file_name_without_extension = os.path.splitext(file_name)[0]\n",
    "    # Create a folder with the same name as the file name\n",
    "    folder_name = os.path.join(IMAGES_FOLDER, file_name_without_extension)\n",
    "    # Create the folder if it does not exist\n",
    "    if not os.path.exists(folder_name):\n",
    "        os.mkdir(folder_name)\n",
    "    else:\n",
    "        # If the folder exists, delete all the files in the folder\n",
    "        for file in os.listdir(folder_name):\n",
    "            os.remove(os.path.join(folder_name, file))\n",
    "    # Save the images to the folder\n",
    "    for i, image in enumerate(images):\n",
    "        image.save(os.path.join(folder_name, f\"{file_name_without_extension}_{i}.jpg\"))\n",
    "\n",
    "def inches_to_pixels(inches: float, dpi: int) -> int:\n",
    "    \"\"\"\n",
    "    Converts inches to pixels based on the given DPI (dots per inch)\n",
    "    \"\"\"\n",
    "    return int(inches * dpi)\n",
    "\n",
    "def mm_to_pixels(mm: float, dpi: int) -> int:\n",
    "    \"\"\"\n",
    "    Converts millimeters to pixels based on the given DPI (dots per inch)\n",
    "    \"\"\"\n",
    "    return int(mm * dpi / 25.4)\n",
    "\n",
    "# Function to crop an image\n",
    "def crop_image(image_path: str, x_start: int, y_start: int, width: int, height: int, save_path: str):\n",
    "    '''\n",
    "    Function to crop an image\n",
    "\n",
    "    Parameters\n",
    "    ----------\n",
    "    image_path : str\n",
    "        The path of the image file\n",
    "    x_start : int\n",
    "        The x-coordinate of the top-left corner of the crop area\n",
    "    y_start : int\n",
    "        The y-coordinate of the top-left corner of the crop area\n",
    "    width : int\n",
    "        The width of the crop area\n",
    "    height : int\n",
    "        The height of the crop area\n",
    "    save_path : str\n",
    "        The path to save the cropped image\n",
    "\n",
    "    Returns\n",
    "    -------\n",
    "    None\n",
    "    '''\n",
    "    # Open the image\n",
    "    image = Image.open(image_path)\n",
    "    # Check the size and DPI of the image\n",
    "    print(\"Original image size:\", image.size)\n",
    "    print(\"Original image DPI:\", image.info.get(\"dpi\"))\n",
    "\n",
    "    # Crop the image\n",
    "    crop_area = (x_start, y_start, x_start+width, y_start+height)\n",
    "    cropped_image = image.crop(crop_area)\n",
    "\n",
    "    # Save the cropped image\n",
    "    cropped_image.save(save_path)\n",
    "    print(\"Cropped image saved at\", save_path)"
   ]
  },
  {
   "attachments": {},
   "cell_type": "markdown",
   "metadata": {},
   "source": [
    "### Get images from PDF and save them in a folder"
   ]
  },
  {
   "cell_type": "code",
   "execution_count": 5,
   "metadata": {},
   "outputs": [],
   "source": [
    "images = convert_from_path(pdf_file_path, size = (IMAGE_WIDTH, IMAGE_HEIGHT), poppler_path = POPPLER_PATH)"
   ]
  },
  {
   "cell_type": "code",
   "execution_count": 6,
   "metadata": {},
   "outputs": [],
   "source": [
    "save_images(pdf_file_path, images)"
   ]
  },
  {
   "attachments": {},
   "cell_type": "markdown",
   "metadata": {},
   "source": [
    "### Read image file from the folder"
   ]
  },
  {
   "cell_type": "code",
   "execution_count": 7,
   "metadata": {},
   "outputs": [
    {
     "name": "stdout",
     "output_type": "stream",
     "text": [
      "./Images/PDF reader test 2/PDF reader test 2_0.jpg\n"
     ]
    }
   ],
   "source": [
    "# Get the file name from the path using basename\n",
    "file_name = os.path.basename(pdf_file_path)\n",
    "\n",
    "# Get the file name from the path using basename\n",
    "file_name_with_ext = os.path.basename(pdf_file_path)\n",
    "\n",
    "file_name = os.path.splitext(file_name_with_ext)[0]\n",
    "\n",
    "image_folder_path = os.path.join(IMAGES_FOLDER, file_name)\n",
    "\n",
    "# Get the first image file name\n",
    "image_file_path = os.path.join(image_folder_path, f\"{file_name}_0.jpg\")\n",
    "\n",
    "# Replace \\ with / for Windows\n",
    "image_file_path = image_file_path.replace(\"\\\\\", \"/\")\n",
    "\n",
    "print(image_file_path)"
   ]
  },
  {
   "attachments": {},
   "cell_type": "markdown",
   "metadata": {},
   "source": [
    "### Crop image"
   ]
  },
  {
   "cell_type": "code",
   "execution_count": 8,
   "metadata": {},
   "outputs": [],
   "source": [
    "# Task dictionary co-ordinates in the format of\n",
    "# {task_name: (x_start_in, y_start_in, width_in, height_in)}\n",
    "task_dict_coords = {\n",
    "    'Pull mats': (2.7, 1.87, 0.25, 0.19),\n",
    "    'Wrap and Put away': (2.7, 1.71, 0.25, 0.19)\n",
    "    }\n",
    "\n",
    "x_start_in, y_start_in, width_in, height_in = task_dict_coords[TEMP_TASK]\n"
   ]
  },
  {
   "cell_type": "code",
   "execution_count": 9,
   "metadata": {},
   "outputs": [
    {
     "name": "stdout",
     "output_type": "stream",
     "text": [
      "Original image size: (2550, 3300)\n",
      "Original image DPI: None\n",
      "Cropped image saved at ./Images/PDF reader test 2_cropped_image.jpg\n"
     ]
    }
   ],
   "source": [
    "save_cropped_image_path = f\"./Images/{file_name}_cropped_image.jpg\"\n",
    "x_start = inches_to_pixels(x_start_in, 500)\n",
    "y_start = inches_to_pixels(y_start_in, 500)\n",
    "width = inches_to_pixels(width_in, 500)\n",
    "height = inches_to_pixels(height_in, 500)\n",
    "\n",
    "crop_image(image_file_path, x_start, y_start, width, height, save_cropped_image_path)"
   ]
  },
  {
   "attachments": {},
   "cell_type": "markdown",
   "metadata": {},
   "source": [
    "### Load PreTrained Model"
   ]
  },
  {
   "cell_type": "code",
   "execution_count": 10,
   "metadata": {},
   "outputs": [],
   "source": [
    "# Requires Torch\n",
    "# pip3 install torch torchvision torchaudio\n",
    "# Pytorch requires Python 3.10 as Python 3.11 has issues currently as of 2023-01-23"
   ]
  },
  {
   "cell_type": "code",
   "execution_count": 11,
   "metadata": {},
   "outputs": [
    {
     "name": "stderr",
     "output_type": "stream",
     "text": [
      "c:\\Users\\sughosh.kulkarni\\Desktop\\Desktop\\Personal\\Vaish\\Time-sheet-PDF-to-Excel\\.venv\\lib\\site-packages\\tqdm\\auto.py:22: TqdmWarning: IProgress not found. Please update jupyter and ipywidgets. See https://ipywidgets.readthedocs.io/en/stable/user_install.html\n",
      "  from .autonotebook import tqdm as notebook_tqdm\n",
      "Could not find image processor class in the image processor config or the model config. Loading based on pattern matching with the model's feature extractor configuration.\n",
      "Some weights of VisionEncoderDecoderModel were not initialized from the model checkpoint at microsoft/trocr-base-handwritten and are newly initialized: ['encoder.pooler.dense.bias', 'encoder.pooler.dense.weight']\n",
      "You should probably TRAIN this model on a down-stream task to be able to use it for predictions and inference.\n"
     ]
    }
   ],
   "source": [
    "from transformers import TrOCRProcessor, VisionEncoderDecoderModel\n",
    "import requests\n",
    "\n",
    "processor = TrOCRProcessor.from_pretrained(\"microsoft/trocr-base-handwritten\")\n",
    "model = VisionEncoderDecoderModel.from_pretrained(\"microsoft/trocr-base-handwritten\")"
   ]
  },
  {
   "attachments": {},
   "cell_type": "markdown",
   "metadata": {},
   "source": [
    "### Predict text from image"
   ]
  },
  {
   "cell_type": "code",
   "execution_count": 12,
   "metadata": {},
   "outputs": [
    {
     "name": "stderr",
     "output_type": "stream",
     "text": [
      "c:\\Users\\sughosh.kulkarni\\Desktop\\Desktop\\Personal\\Vaish\\Time-sheet-PDF-to-Excel\\.venv\\lib\\site-packages\\transformers\\generation\\utils.py:1273: UserWarning: Neither `max_length` nor `max_new_tokens` has been set, `max_length` will default to 20 (`generation_config.max_length`). Controlling `max_length` via the config is deprecated and `max_length` will be removed from the config in v5 of Transformers -- we recommend using `max_new_tokens` to control the maximum length of the generation.\n",
      "  warnings.warn(\n"
     ]
    },
    {
     "data": {
      "text/plain": [
       "'5'"
      ]
     },
     "execution_count": 12,
     "metadata": {},
     "output_type": "execute_result"
    }
   ],
   "source": [
    "# load custom image\n",
    "file_name = save_cropped_image_path\n",
    "image = Image.open(file_name)#.convert(\"RGB\")\n",
    "\n",
    "pixel_values = processor(image, return_tensors=\"pt\").pixel_values\n",
    "generated_ids = model.generate(pixel_values)\n",
    "\n",
    "generated_text = processor.batch_decode(generated_ids, skip_special_tokens=True)[0]\n",
    "generated_text"
   ]
  }
 ],
 "metadata": {
  "kernelspec": {
   "display_name": ".venv",
   "language": "python",
   "name": "python3"
  },
  "language_info": {
   "codemirror_mode": {
    "name": "ipython",
    "version": 3
   },
   "file_extension": ".py",
   "mimetype": "text/x-python",
   "name": "python",
   "nbconvert_exporter": "python",
   "pygments_lexer": "ipython3",
   "version": "3.10.0rc2"
  },
  "orig_nbformat": 4,
  "vscode": {
   "interpreter": {
    "hash": "1c924f08b8f628ee0c04becae896b63ba79dcaf747c94f04a08de911da865e13"
   }
  }
 },
 "nbformat": 4,
 "nbformat_minor": 2
}
